{
 "cells": [
  {
   "cell_type": "markdown",
   "metadata": {},
   "source": [
    "# Preprocess PanCancer data"
   ]
  },
  {
   "cell_type": "code",
   "execution_count": 197,
   "metadata": {},
   "outputs": [
    {
     "name": "stdout",
     "output_type": "stream",
     "text": [
      "Genes=60498; Samples=10535;\n"
     ]
    },
    {
     "data": {
      "text/html": [
       "<div>\n",
       "<style scoped>\n",
       "    .dataframe tbody tr th:only-of-type {\n",
       "        vertical-align: middle;\n",
       "    }\n",
       "\n",
       "    .dataframe tbody tr th {\n",
       "        vertical-align: top;\n",
       "    }\n",
       "\n",
       "    .dataframe thead th {\n",
       "        text-align: right;\n",
       "    }\n",
       "</style>\n",
       "<table border=\"1\" class=\"dataframe\">\n",
       "  <thead>\n",
       "    <tr style=\"text-align: right;\">\n",
       "      <th></th>\n",
       "      <th>TCGA-02-0047-01</th>\n",
       "      <th>TCGA-02-0055-01</th>\n",
       "      <th>TCGA-02-2483-01</th>\n",
       "      <th>TCGA-02-2485-01</th>\n",
       "      <th>TCGA-04-1331-01</th>\n",
       "      <th>TCGA-04-1332-01</th>\n",
       "      <th>TCGA-04-1337-01</th>\n",
       "      <th>TCGA-04-1338-01</th>\n",
       "      <th>TCGA-04-1341-01</th>\n",
       "      <th>TCGA-04-1343-01</th>\n",
       "      <th>...</th>\n",
       "      <th>TCGA-ZR-A9CJ-01</th>\n",
       "      <th>TCGA-ZS-A9CD-01</th>\n",
       "      <th>TCGA-ZS-A9CE-01</th>\n",
       "      <th>TCGA-ZS-A9CF-01</th>\n",
       "      <th>TCGA-ZS-A9CF-02</th>\n",
       "      <th>TCGA-ZS-A9CG-01</th>\n",
       "      <th>TCGA-ZT-A8OM-01</th>\n",
       "      <th>TCGA-ZU-A8S4-01</th>\n",
       "      <th>TCGA-ZU-A8S4-11</th>\n",
       "      <th>TCGA-ZX-AA5X-01</th>\n",
       "    </tr>\n",
       "    <tr>\n",
       "      <th>sample</th>\n",
       "      <th></th>\n",
       "      <th></th>\n",
       "      <th></th>\n",
       "      <th></th>\n",
       "      <th></th>\n",
       "      <th></th>\n",
       "      <th></th>\n",
       "      <th></th>\n",
       "      <th></th>\n",
       "      <th></th>\n",
       "      <th></th>\n",
       "      <th></th>\n",
       "      <th></th>\n",
       "      <th></th>\n",
       "      <th></th>\n",
       "      <th></th>\n",
       "      <th></th>\n",
       "      <th></th>\n",
       "      <th></th>\n",
       "      <th></th>\n",
       "      <th></th>\n",
       "    </tr>\n",
       "  </thead>\n",
       "  <tbody>\n",
       "    <tr>\n",
       "      <th>ENSG00000000003.14</th>\n",
       "      <td>5.4712</td>\n",
       "      <td>5.1498</td>\n",
       "      <td>5.6448</td>\n",
       "      <td>6.1709</td>\n",
       "      <td>5.7911</td>\n",
       "      <td>4.1907</td>\n",
       "      <td>4.3463</td>\n",
       "      <td>3.9856</td>\n",
       "      <td>4.0251</td>\n",
       "      <td>4.2921</td>\n",
       "      <td>...</td>\n",
       "      <td>4.4784</td>\n",
       "      <td>6.0330</td>\n",
       "      <td>5.4845</td>\n",
       "      <td>5.1363</td>\n",
       "      <td>5.1583</td>\n",
       "      <td>7.1371</td>\n",
       "      <td>1.5998</td>\n",
       "      <td>4.6560</td>\n",
       "      <td>5.3230</td>\n",
       "      <td>4.8115</td>\n",
       "    </tr>\n",
       "    <tr>\n",
       "      <th>ENSG00000000005.5</th>\n",
       "      <td>-3.1714</td>\n",
       "      <td>4.1652</td>\n",
       "      <td>-5.5735</td>\n",
       "      <td>-3.1714</td>\n",
       "      <td>-2.6349</td>\n",
       "      <td>-2.3147</td>\n",
       "      <td>-5.0116</td>\n",
       "      <td>-5.5735</td>\n",
       "      <td>-4.2934</td>\n",
       "      <td>0.9115</td>\n",
       "      <td>...</td>\n",
       "      <td>-5.0116</td>\n",
       "      <td>-9.9658</td>\n",
       "      <td>-9.9658</td>\n",
       "      <td>-5.5735</td>\n",
       "      <td>-4.6082</td>\n",
       "      <td>-0.2671</td>\n",
       "      <td>-1.1172</td>\n",
       "      <td>-9.9658</td>\n",
       "      <td>-9.9658</td>\n",
       "      <td>-3.1714</td>\n",
       "    </tr>\n",
       "    <tr>\n",
       "      <th>ENSG00000000419.12</th>\n",
       "      <td>4.6753</td>\n",
       "      <td>6.0251</td>\n",
       "      <td>5.8263</td>\n",
       "      <td>5.1768</td>\n",
       "      <td>5.7963</td>\n",
       "      <td>4.3169</td>\n",
       "      <td>6.8252</td>\n",
       "      <td>5.2430</td>\n",
       "      <td>4.9031</td>\n",
       "      <td>6.5546</td>\n",
       "      <td>...</td>\n",
       "      <td>6.7702</td>\n",
       "      <td>5.0670</td>\n",
       "      <td>4.6611</td>\n",
       "      <td>4.5261</td>\n",
       "      <td>4.6317</td>\n",
       "      <td>4.8798</td>\n",
       "      <td>2.8321</td>\n",
       "      <td>5.5874</td>\n",
       "      <td>4.0037</td>\n",
       "      <td>5.2192</td>\n",
       "    </tr>\n",
       "    <tr>\n",
       "      <th>ENSG00000000457.13</th>\n",
       "      <td>2.0742</td>\n",
       "      <td>2.1013</td>\n",
       "      <td>1.9564</td>\n",
       "      <td>2.4198</td>\n",
       "      <td>2.1988</td>\n",
       "      <td>0.8246</td>\n",
       "      <td>1.1641</td>\n",
       "      <td>1.5013</td>\n",
       "      <td>0.5955</td>\n",
       "      <td>0.3685</td>\n",
       "      <td>...</td>\n",
       "      <td>2.1988</td>\n",
       "      <td>1.8762</td>\n",
       "      <td>2.1280</td>\n",
       "      <td>3.0428</td>\n",
       "      <td>3.5473</td>\n",
       "      <td>2.1313</td>\n",
       "      <td>-0.6873</td>\n",
       "      <td>1.7870</td>\n",
       "      <td>0.9642</td>\n",
       "      <td>2.5061</td>\n",
       "    </tr>\n",
       "    <tr>\n",
       "      <th>ENSG00000000460.16</th>\n",
       "      <td>2.2573</td>\n",
       "      <td>2.4571</td>\n",
       "      <td>2.5036</td>\n",
       "      <td>3.0995</td>\n",
       "      <td>2.8442</td>\n",
       "      <td>1.4281</td>\n",
       "      <td>1.0007</td>\n",
       "      <td>1.4174</td>\n",
       "      <td>0.7407</td>\n",
       "      <td>0.9419</td>\n",
       "      <td>...</td>\n",
       "      <td>3.0498</td>\n",
       "      <td>0.0440</td>\n",
       "      <td>0.2522</td>\n",
       "      <td>1.8036</td>\n",
       "      <td>2.4623</td>\n",
       "      <td>3.0825</td>\n",
       "      <td>2.1444</td>\n",
       "      <td>2.6208</td>\n",
       "      <td>0.5955</td>\n",
       "      <td>2.6624</td>\n",
       "    </tr>\n",
       "  </tbody>\n",
       "</table>\n",
       "<p>5 rows × 10535 columns</p>\n",
       "</div>"
      ],
      "text/plain": [
       "                    TCGA-02-0047-01  TCGA-02-0055-01  TCGA-02-2483-01  \\\n",
       "sample                                                                  \n",
       "ENSG00000000003.14           5.4712           5.1498           5.6448   \n",
       "ENSG00000000005.5           -3.1714           4.1652          -5.5735   \n",
       "ENSG00000000419.12           4.6753           6.0251           5.8263   \n",
       "ENSG00000000457.13           2.0742           2.1013           1.9564   \n",
       "ENSG00000000460.16           2.2573           2.4571           2.5036   \n",
       "\n",
       "                    TCGA-02-2485-01  TCGA-04-1331-01  TCGA-04-1332-01  \\\n",
       "sample                                                                  \n",
       "ENSG00000000003.14           6.1709           5.7911           4.1907   \n",
       "ENSG00000000005.5           -3.1714          -2.6349          -2.3147   \n",
       "ENSG00000000419.12           5.1768           5.7963           4.3169   \n",
       "ENSG00000000457.13           2.4198           2.1988           0.8246   \n",
       "ENSG00000000460.16           3.0995           2.8442           1.4281   \n",
       "\n",
       "                    TCGA-04-1337-01  TCGA-04-1338-01  TCGA-04-1341-01  \\\n",
       "sample                                                                  \n",
       "ENSG00000000003.14           4.3463           3.9856           4.0251   \n",
       "ENSG00000000005.5           -5.0116          -5.5735          -4.2934   \n",
       "ENSG00000000419.12           6.8252           5.2430           4.9031   \n",
       "ENSG00000000457.13           1.1641           1.5013           0.5955   \n",
       "ENSG00000000460.16           1.0007           1.4174           0.7407   \n",
       "\n",
       "                    TCGA-04-1343-01  ...  TCGA-ZR-A9CJ-01  TCGA-ZS-A9CD-01  \\\n",
       "sample                               ...                                     \n",
       "ENSG00000000003.14           4.2921  ...           4.4784           6.0330   \n",
       "ENSG00000000005.5            0.9115  ...          -5.0116          -9.9658   \n",
       "ENSG00000000419.12           6.5546  ...           6.7702           5.0670   \n",
       "ENSG00000000457.13           0.3685  ...           2.1988           1.8762   \n",
       "ENSG00000000460.16           0.9419  ...           3.0498           0.0440   \n",
       "\n",
       "                    TCGA-ZS-A9CE-01  TCGA-ZS-A9CF-01  TCGA-ZS-A9CF-02  \\\n",
       "sample                                                                  \n",
       "ENSG00000000003.14           5.4845           5.1363           5.1583   \n",
       "ENSG00000000005.5           -9.9658          -5.5735          -4.6082   \n",
       "ENSG00000000419.12           4.6611           4.5261           4.6317   \n",
       "ENSG00000000457.13           2.1280           3.0428           3.5473   \n",
       "ENSG00000000460.16           0.2522           1.8036           2.4623   \n",
       "\n",
       "                    TCGA-ZS-A9CG-01  TCGA-ZT-A8OM-01  TCGA-ZU-A8S4-01  \\\n",
       "sample                                                                  \n",
       "ENSG00000000003.14           7.1371           1.5998           4.6560   \n",
       "ENSG00000000005.5           -0.2671          -1.1172          -9.9658   \n",
       "ENSG00000000419.12           4.8798           2.8321           5.5874   \n",
       "ENSG00000000457.13           2.1313          -0.6873           1.7870   \n",
       "ENSG00000000460.16           3.0825           2.1444           2.6208   \n",
       "\n",
       "                    TCGA-ZU-A8S4-11  TCGA-ZX-AA5X-01  \n",
       "sample                                                \n",
       "ENSG00000000003.14           5.3230           4.8115  \n",
       "ENSG00000000005.5           -9.9658          -3.1714  \n",
       "ENSG00000000419.12           4.0037           5.2192  \n",
       "ENSG00000000457.13           0.9642           2.5061  \n",
       "ENSG00000000460.16           0.5955           2.6624  \n",
       "\n",
       "[5 rows x 10535 columns]"
      ]
     },
     "execution_count": 197,
     "metadata": {},
     "output_type": "execute_result"
    }
   ],
   "source": [
    "import pandas as pd\n",
    "import numpy as np\n",
    "\n",
    "df_gene_exp = pd.read_table(\"./tcga_RSEM_gene_tpm\", sep='\\t', index_col=0).sort_index(axis='rows').sort_index(axis='columns')\n",
    "print(\"Genes={}; Samples={};\".format(*df_gene_exp.shape))\n",
    "df_gene_exp.head()"
   ]
  },
  {
   "cell_type": "code",
   "execution_count": 198,
   "metadata": {},
   "outputs": [
    {
     "data": {
      "text/plain": [
       "False"
      ]
     },
     "execution_count": 198,
     "metadata": {},
     "output_type": "execute_result"
    }
   ],
   "source": [
    "df_gene_exp.isnull().values.any()"
   ]
  },
  {
   "cell_type": "markdown",
   "metadata": {},
   "source": [
    "# Data exploration\n",
    "\n",
    "We now explore the samples type (tumor or normal), and then some clinical information associated to them.\n",
    "\n",
    "## Tumor-Normal binary variable\n",
    "\n",
    "We first load a dataset that contains information about the PanCancer sample types and diseases."
   ]
  },
  {
   "cell_type": "code",
   "execution_count": 200,
   "metadata": {},
   "outputs": [
    {
     "name": "stdout",
     "output_type": "stream",
     "text": [
      "(12804, 3)\n",
      "False\n"
     ]
    },
    {
     "data": {
      "text/html": [
       "<div>\n",
       "<style scoped>\n",
       "    .dataframe tbody tr th:only-of-type {\n",
       "        vertical-align: middle;\n",
       "    }\n",
       "\n",
       "    .dataframe tbody tr th {\n",
       "        vertical-align: top;\n",
       "    }\n",
       "\n",
       "    .dataframe thead th {\n",
       "        text-align: right;\n",
       "    }\n",
       "</style>\n",
       "<table border=\"1\" class=\"dataframe\">\n",
       "  <thead>\n",
       "    <tr style=\"text-align: right;\">\n",
       "      <th></th>\n",
       "      <th>sample_type_id</th>\n",
       "      <th>sample_type</th>\n",
       "      <th>_primary_disease</th>\n",
       "    </tr>\n",
       "    <tr>\n",
       "      <th>sample</th>\n",
       "      <th></th>\n",
       "      <th></th>\n",
       "      <th></th>\n",
       "    </tr>\n",
       "  </thead>\n",
       "  <tbody>\n",
       "    <tr>\n",
       "      <th>TCGA-01-0628-11</th>\n",
       "      <td>11.0</td>\n",
       "      <td>Solid Tissue Normal</td>\n",
       "      <td>ovarian serous cystadenocarcinoma</td>\n",
       "    </tr>\n",
       "    <tr>\n",
       "      <th>TCGA-01-0629-11</th>\n",
       "      <td>NaN</td>\n",
       "      <td>NaN</td>\n",
       "      <td>ovarian serous cystadenocarcinoma</td>\n",
       "    </tr>\n",
       "    <tr>\n",
       "      <th>TCGA-01-0630-11</th>\n",
       "      <td>11.0</td>\n",
       "      <td>Solid Tissue Normal</td>\n",
       "      <td>ovarian serous cystadenocarcinoma</td>\n",
       "    </tr>\n",
       "    <tr>\n",
       "      <th>TCGA-01-0631-11</th>\n",
       "      <td>11.0</td>\n",
       "      <td>Solid Tissue Normal</td>\n",
       "      <td>ovarian serous cystadenocarcinoma</td>\n",
       "    </tr>\n",
       "    <tr>\n",
       "      <th>TCGA-01-0633-11</th>\n",
       "      <td>11.0</td>\n",
       "      <td>Solid Tissue Normal</td>\n",
       "      <td>ovarian serous cystadenocarcinoma</td>\n",
       "    </tr>\n",
       "  </tbody>\n",
       "</table>\n",
       "</div>"
      ],
      "text/plain": [
       "                 sample_type_id          sample_type  \\\n",
       "sample                                                 \n",
       "TCGA-01-0628-11            11.0  Solid Tissue Normal   \n",
       "TCGA-01-0629-11             NaN                  NaN   \n",
       "TCGA-01-0630-11            11.0  Solid Tissue Normal   \n",
       "TCGA-01-0631-11            11.0  Solid Tissue Normal   \n",
       "TCGA-01-0633-11            11.0  Solid Tissue Normal   \n",
       "\n",
       "                                  _primary_disease  \n",
       "sample                                              \n",
       "TCGA-01-0628-11  ovarian serous cystadenocarcinoma  \n",
       "TCGA-01-0629-11  ovarian serous cystadenocarcinoma  \n",
       "TCGA-01-0630-11  ovarian serous cystadenocarcinoma  \n",
       "TCGA-01-0631-11  ovarian serous cystadenocarcinoma  \n",
       "TCGA-01-0633-11  ovarian serous cystadenocarcinoma  "
      ]
     },
     "execution_count": 200,
     "metadata": {},
     "output_type": "execute_result"
    }
   ],
   "source": [
    "df_pancan_sample = pd.read_csv(\"./TCGA_phenotype_denseDataOnlyDownload.tsv\", \n",
    "                               sep='\\t', index_col=0).sort_index(axis='rows')\n",
    "\n",
    "print(df_pancan_sample.shape)\n",
    "pancan_sample = df_pancan_sample.index\n",
    "print(pancan_sample.duplicated().any())\n",
    "df_pancan_sample.head()"
   ]
  },
  {
   "cell_type": "markdown",
   "metadata": {},
   "source": [
    "there are no duplicated samples:\n",
    "\n",
    "We select the PanCancer samples contained both in the expression and samples type datasets:"
   ]
  },
  {
   "cell_type": "code",
   "execution_count": 201,
   "metadata": {},
   "outputs": [
    {
     "data": {
      "text/plain": [
       "10534"
      ]
     },
     "execution_count": 201,
     "metadata": {},
     "output_type": "execute_result"
    }
   ],
   "source": [
    "pancan_sample_common = df_gene_exp.columns.intersection(pancan_sample)\n",
    "len(pancan_sample_common)"
   ]
  },
  {
   "cell_type": "code",
   "execution_count": 203,
   "metadata": {},
   "outputs": [
    {
     "data": {
      "text/plain": [
       "(10534, 3)"
      ]
     },
     "execution_count": 203,
     "metadata": {},
     "output_type": "execute_result"
    }
   ],
   "source": [
    "df_pancan_sample = df_pancan_sample.loc[pancan_sample_common]\n",
    "df_pancan_sample.shape"
   ]
  },
  {
   "cell_type": "code",
   "execution_count": 204,
   "metadata": {},
   "outputs": [
    {
     "data": {
      "text/plain": [
       "sample_type_id      False\n",
       "sample_type         False\n",
       "_primary_disease    False\n",
       "dtype: bool"
      ]
     },
     "execution_count": 204,
     "metadata": {},
     "output_type": "execute_result"
    }
   ],
   "source": [
    "# Check NAs\n",
    "df_pancan_sample.isnull().any()"
   ]
  },
  {
   "cell_type": "code",
   "execution_count": 205,
   "metadata": {},
   "outputs": [
    {
     "data": {
      "text/plain": [
       "Primary Tumor                                      9185\n",
       "Solid Tissue Normal                                 727\n",
       "Metastatic                                          392\n",
       "Primary Blood Derived Cancer - Peripheral Blood     173\n",
       "Recurrent Tumor                                      45\n",
       "Additional - New Primary                             11\n",
       "Additional Metastatic                                 1\n",
       "Name: sample_type, dtype: int64"
      ]
     },
     "execution_count": 205,
     "metadata": {},
     "output_type": "execute_result"
    }
   ],
   "source": [
    "# Sample type variable\n",
    "df_pancan_sample.sample_type.value_counts(normalize=False)"
   ]
  },
  {
   "cell_type": "markdown",
   "metadata": {},
   "source": [
    "We create a tumor/normal binary variable using the sample type, with no NA values in the column:"
   ]
  },
  {
   "cell_type": "code",
   "execution_count": 206,
   "metadata": {},
   "outputs": [],
   "source": [
    "df_pancan_sample[\"tumor_normal\"] = df_pancan_sample.apply(\n",
    "    lambda row: \"Normal\" if row[\"sample_type\"] == \"Solid Tissue Normal\" else \"Tumor\", axis=1)"
   ]
  },
  {
   "cell_type": "code",
   "execution_count": 207,
   "metadata": {},
   "outputs": [
    {
     "data": {
      "text/plain": [
       "Tumor     9807\n",
       "Normal     727\n",
       "Name: tumor_normal, dtype: int64"
      ]
     },
     "execution_count": 207,
     "metadata": {},
     "output_type": "execute_result"
    }
   ],
   "source": [
    "# Tumor/Normal variable\n",
    "df_pancan_sample.tumor_normal.value_counts(normalize=False)"
   ]
  },
  {
   "cell_type": "markdown",
   "metadata": {},
   "source": [
    "## Clinical variables"
   ]
  },
  {
   "cell_type": "code",
   "execution_count": 208,
   "metadata": {},
   "outputs": [
    {
     "name": "stdout",
     "output_type": "stream",
     "text": [
      "(12591, 35)\n"
     ]
    },
    {
     "data": {
      "text/html": [
       "<div>\n",
       "<style scoped>\n",
       "    .dataframe tbody tr th:only-of-type {\n",
       "        vertical-align: middle;\n",
       "    }\n",
       "\n",
       "    .dataframe tbody tr th {\n",
       "        vertical-align: top;\n",
       "    }\n",
       "\n",
       "    .dataframe thead th {\n",
       "        text-align: right;\n",
       "    }\n",
       "</style>\n",
       "<table border=\"1\" class=\"dataframe\">\n",
       "  <thead>\n",
       "    <tr style=\"text-align: right;\">\n",
       "      <th></th>\n",
       "      <th>_PATIENT</th>\n",
       "      <th>cancer type abbreviation</th>\n",
       "      <th>age_at_initial_pathologic_diagnosis</th>\n",
       "      <th>gender</th>\n",
       "      <th>race</th>\n",
       "      <th>ajcc_pathologic_tumor_stage</th>\n",
       "      <th>clinical_stage</th>\n",
       "      <th>histological_type</th>\n",
       "      <th>histological_grade</th>\n",
       "      <th>initial_pathologic_dx_year</th>\n",
       "      <th>...</th>\n",
       "      <th>_TIME_TO_EVENT</th>\n",
       "      <th>OS</th>\n",
       "      <th>OS.time</th>\n",
       "      <th>DSS</th>\n",
       "      <th>DSS.time</th>\n",
       "      <th>DFI</th>\n",
       "      <th>DFI.time</th>\n",
       "      <th>PFI</th>\n",
       "      <th>PFI.time</th>\n",
       "      <th>Redaction</th>\n",
       "    </tr>\n",
       "    <tr>\n",
       "      <th>sample</th>\n",
       "      <th></th>\n",
       "      <th></th>\n",
       "      <th></th>\n",
       "      <th></th>\n",
       "      <th></th>\n",
       "      <th></th>\n",
       "      <th></th>\n",
       "      <th></th>\n",
       "      <th></th>\n",
       "      <th></th>\n",
       "      <th></th>\n",
       "      <th></th>\n",
       "      <th></th>\n",
       "      <th></th>\n",
       "      <th></th>\n",
       "      <th></th>\n",
       "      <th></th>\n",
       "      <th></th>\n",
       "      <th></th>\n",
       "      <th></th>\n",
       "      <th></th>\n",
       "    </tr>\n",
       "  </thead>\n",
       "  <tbody>\n",
       "    <tr>\n",
       "      <th>TCGA-02-0001-01</th>\n",
       "      <td>TCGA-02-0001</td>\n",
       "      <td>GBM</td>\n",
       "      <td>44.0</td>\n",
       "      <td>FEMALE</td>\n",
       "      <td>WHITE</td>\n",
       "      <td>NaN</td>\n",
       "      <td>NaN</td>\n",
       "      <td>Untreated primary (de novo) GBM</td>\n",
       "      <td>NaN</td>\n",
       "      <td>2002.0</td>\n",
       "      <td>...</td>\n",
       "      <td>358.0</td>\n",
       "      <td>1.0</td>\n",
       "      <td>358.0</td>\n",
       "      <td>1.0</td>\n",
       "      <td>358.0</td>\n",
       "      <td>NaN</td>\n",
       "      <td>NaN</td>\n",
       "      <td>1.0</td>\n",
       "      <td>137.0</td>\n",
       "      <td>NaN</td>\n",
       "    </tr>\n",
       "    <tr>\n",
       "      <th>TCGA-02-0003-01</th>\n",
       "      <td>TCGA-02-0003</td>\n",
       "      <td>GBM</td>\n",
       "      <td>50.0</td>\n",
       "      <td>MALE</td>\n",
       "      <td>WHITE</td>\n",
       "      <td>NaN</td>\n",
       "      <td>NaN</td>\n",
       "      <td>Untreated primary (de novo) GBM</td>\n",
       "      <td>NaN</td>\n",
       "      <td>2003.0</td>\n",
       "      <td>...</td>\n",
       "      <td>144.0</td>\n",
       "      <td>1.0</td>\n",
       "      <td>144.0</td>\n",
       "      <td>1.0</td>\n",
       "      <td>144.0</td>\n",
       "      <td>NaN</td>\n",
       "      <td>NaN</td>\n",
       "      <td>1.0</td>\n",
       "      <td>40.0</td>\n",
       "      <td>NaN</td>\n",
       "    </tr>\n",
       "    <tr>\n",
       "      <th>TCGA-02-0006-01</th>\n",
       "      <td>TCGA-02-0006</td>\n",
       "      <td>GBM</td>\n",
       "      <td>56.0</td>\n",
       "      <td>FEMALE</td>\n",
       "      <td>WHITE</td>\n",
       "      <td>NaN</td>\n",
       "      <td>NaN</td>\n",
       "      <td>Untreated primary (de novo) GBM</td>\n",
       "      <td>NaN</td>\n",
       "      <td>2002.0</td>\n",
       "      <td>...</td>\n",
       "      <td>558.0</td>\n",
       "      <td>1.0</td>\n",
       "      <td>558.0</td>\n",
       "      <td>1.0</td>\n",
       "      <td>558.0</td>\n",
       "      <td>NaN</td>\n",
       "      <td>NaN</td>\n",
       "      <td>1.0</td>\n",
       "      <td>302.0</td>\n",
       "      <td>NaN</td>\n",
       "    </tr>\n",
       "    <tr>\n",
       "      <th>TCGA-02-0007-01</th>\n",
       "      <td>TCGA-02-0007</td>\n",
       "      <td>GBM</td>\n",
       "      <td>40.0</td>\n",
       "      <td>FEMALE</td>\n",
       "      <td>WHITE</td>\n",
       "      <td>NaN</td>\n",
       "      <td>NaN</td>\n",
       "      <td>Treated primary GBM</td>\n",
       "      <td>NaN</td>\n",
       "      <td>2002.0</td>\n",
       "      <td>...</td>\n",
       "      <td>705.0</td>\n",
       "      <td>1.0</td>\n",
       "      <td>705.0</td>\n",
       "      <td>1.0</td>\n",
       "      <td>705.0</td>\n",
       "      <td>NaN</td>\n",
       "      <td>NaN</td>\n",
       "      <td>1.0</td>\n",
       "      <td>518.0</td>\n",
       "      <td>NaN</td>\n",
       "    </tr>\n",
       "    <tr>\n",
       "      <th>TCGA-02-0009-01</th>\n",
       "      <td>TCGA-02-0009</td>\n",
       "      <td>GBM</td>\n",
       "      <td>61.0</td>\n",
       "      <td>FEMALE</td>\n",
       "      <td>WHITE</td>\n",
       "      <td>NaN</td>\n",
       "      <td>NaN</td>\n",
       "      <td>Untreated primary (de novo) GBM</td>\n",
       "      <td>NaN</td>\n",
       "      <td>2003.0</td>\n",
       "      <td>...</td>\n",
       "      <td>322.0</td>\n",
       "      <td>1.0</td>\n",
       "      <td>322.0</td>\n",
       "      <td>1.0</td>\n",
       "      <td>322.0</td>\n",
       "      <td>NaN</td>\n",
       "      <td>NaN</td>\n",
       "      <td>1.0</td>\n",
       "      <td>264.0</td>\n",
       "      <td>NaN</td>\n",
       "    </tr>\n",
       "  </tbody>\n",
       "</table>\n",
       "<p>5 rows × 35 columns</p>\n",
       "</div>"
      ],
      "text/plain": [
       "                     _PATIENT cancer type abbreviation  \\\n",
       "sample                                                   \n",
       "TCGA-02-0001-01  TCGA-02-0001                      GBM   \n",
       "TCGA-02-0003-01  TCGA-02-0003                      GBM   \n",
       "TCGA-02-0006-01  TCGA-02-0006                      GBM   \n",
       "TCGA-02-0007-01  TCGA-02-0007                      GBM   \n",
       "TCGA-02-0009-01  TCGA-02-0009                      GBM   \n",
       "\n",
       "                 age_at_initial_pathologic_diagnosis  gender   race  \\\n",
       "sample                                                                \n",
       "TCGA-02-0001-01                                 44.0  FEMALE  WHITE   \n",
       "TCGA-02-0003-01                                 50.0    MALE  WHITE   \n",
       "TCGA-02-0006-01                                 56.0  FEMALE  WHITE   \n",
       "TCGA-02-0007-01                                 40.0  FEMALE  WHITE   \n",
       "TCGA-02-0009-01                                 61.0  FEMALE  WHITE   \n",
       "\n",
       "                ajcc_pathologic_tumor_stage clinical_stage  \\\n",
       "sample                                                       \n",
       "TCGA-02-0001-01                         NaN            NaN   \n",
       "TCGA-02-0003-01                         NaN            NaN   \n",
       "TCGA-02-0006-01                         NaN            NaN   \n",
       "TCGA-02-0007-01                         NaN            NaN   \n",
       "TCGA-02-0009-01                         NaN            NaN   \n",
       "\n",
       "                               histological_type histological_grade  \\\n",
       "sample                                                                \n",
       "TCGA-02-0001-01  Untreated primary (de novo) GBM                NaN   \n",
       "TCGA-02-0003-01  Untreated primary (de novo) GBM                NaN   \n",
       "TCGA-02-0006-01  Untreated primary (de novo) GBM                NaN   \n",
       "TCGA-02-0007-01              Treated primary GBM                NaN   \n",
       "TCGA-02-0009-01  Untreated primary (de novo) GBM                NaN   \n",
       "\n",
       "                 initial_pathologic_dx_year  ... _TIME_TO_EVENT   OS OS.time  \\\n",
       "sample                                       ...                               \n",
       "TCGA-02-0001-01                      2002.0  ...          358.0  1.0   358.0   \n",
       "TCGA-02-0003-01                      2003.0  ...          144.0  1.0   144.0   \n",
       "TCGA-02-0006-01                      2002.0  ...          558.0  1.0   558.0   \n",
       "TCGA-02-0007-01                      2002.0  ...          705.0  1.0   705.0   \n",
       "TCGA-02-0009-01                      2003.0  ...          322.0  1.0   322.0   \n",
       "\n",
       "                 DSS  DSS.time  DFI DFI.time  PFI PFI.time Redaction  \n",
       "sample                                                                \n",
       "TCGA-02-0001-01  1.0     358.0  NaN      NaN  1.0    137.0       NaN  \n",
       "TCGA-02-0003-01  1.0     144.0  NaN      NaN  1.0     40.0       NaN  \n",
       "TCGA-02-0006-01  1.0     558.0  NaN      NaN  1.0    302.0       NaN  \n",
       "TCGA-02-0007-01  1.0     705.0  NaN      NaN  1.0    518.0       NaN  \n",
       "TCGA-02-0009-01  1.0     322.0  NaN      NaN  1.0    264.0       NaN  \n",
       "\n",
       "[5 rows x 35 columns]"
      ]
     },
     "execution_count": 208,
     "metadata": {},
     "output_type": "execute_result"
    }
   ],
   "source": [
    "df_pancan_clinical = pd.read_table(\"./Survival_SupplementalTable_S1_20171025_xena_sp.tsv\", \n",
    "                                   index_col=0).sort_index(axis='rows')\n",
    "print(df_pancan_clinical.shape)\n",
    "df_pancan_clinical.head()"
   ]
  },
  {
   "cell_type": "code",
   "execution_count": 209,
   "metadata": {},
   "outputs": [
    {
     "data": {
      "text/plain": [
       "False"
      ]
     },
     "execution_count": 209,
     "metadata": {},
     "output_type": "execute_result"
    }
   ],
   "source": [
    "pancan_clinical = df_pancan_clinical.index\n",
    "pancan_clinical.duplicated().any()"
   ]
  },
  {
   "cell_type": "markdown",
   "metadata": {},
   "source": [
    "We select the PanCancer samples contained both in the expression and clinical datasets:"
   ]
  },
  {
   "cell_type": "code",
   "execution_count": 210,
   "metadata": {
    "scrolled": true
   },
   "outputs": [
    {
     "data": {
      "text/plain": [
       "10496"
      ]
     },
     "execution_count": 210,
     "metadata": {},
     "output_type": "execute_result"
    }
   ],
   "source": [
    "pancan_clinical_common = df_gene_exp.columns.intersection(pancan_clinical)\n",
    "len(pancan_clinical_common)"
   ]
  },
  {
   "cell_type": "code",
   "execution_count": 211,
   "metadata": {},
   "outputs": [
    {
     "data": {
      "text/plain": [
       "(10496, 35)"
      ]
     },
     "execution_count": 211,
     "metadata": {},
     "output_type": "execute_result"
    }
   ],
   "source": [
    "df_pancan_clinical = df_pancan_clinical.loc[pancan_clinical_common]\n",
    "df_pancan_clinical.shape"
   ]
  },
  {
   "cell_type": "code",
   "execution_count": 212,
   "metadata": {},
   "outputs": [
    {
     "name": "stdout",
     "output_type": "stream",
     "text": [
      "Number of samples with this information: 10489\n"
     ]
    },
    {
     "data": {
      "text/plain": [
       "0.0    0.687196\n",
       "1.0    0.312804\n",
       "Name: OS, dtype: float64"
      ]
     },
     "execution_count": 212,
     "metadata": {},
     "output_type": "execute_result"
    }
   ],
   "source": [
    "# Overall survival\n",
    "variable = \"OS\"\n",
    "print(\"Number of samples with this information:\",\n",
    "      sum(df_pancan_clinical[variable].value_counts(normalize=False)))\n",
    "\n",
    "df_pancan_clinical[variable].value_counts(normalize=True)"
   ]
  },
  {
   "cell_type": "code",
   "execution_count": 213,
   "metadata": {},
   "outputs": [
    {
     "name": "stdout",
     "output_type": "stream",
     "text": [
      "Number of samples with this information: 10316\n"
     ]
    },
    {
     "data": {
      "text/plain": [
       "0.0    0.653742\n",
       "1.0    0.346258\n",
       "Name: PFI, dtype: float64"
      ]
     },
     "execution_count": 213,
     "metadata": {},
     "output_type": "execute_result"
    }
   ],
   "source": [
    "# Progression-free interval\n",
    "variable = \"PFI\"\n",
    "print(\"Number of samples with this information:\",\n",
    "      sum(df_pancan_clinical[variable].value_counts(normalize=False)))\n",
    "\n",
    "df_pancan_clinical[variable].value_counts(normalize=True)"
   ]
  },
  {
   "cell_type": "code",
   "execution_count": 214,
   "metadata": {},
   "outputs": [
    {
     "name": "stdout",
     "output_type": "stream",
     "text": [
      "Number of samples with this information: 10013\n"
     ]
    },
    {
     "data": {
      "text/plain": [
       "0.0    0.785978\n",
       "1.0    0.214022\n",
       "Name: DSS, dtype: float64"
      ]
     },
     "execution_count": 214,
     "metadata": {},
     "output_type": "execute_result"
    }
   ],
   "source": [
    "# Disease-specific survival\n",
    "variable = \"DSS\"\n",
    "print(\"Number of samples with this information:\",\n",
    "      sum(df_pancan_clinical[variable].value_counts(normalize=False)))\n",
    "\n",
    "df_pancan_clinical[variable].value_counts(normalize=True)"
   ]
  },
  {
   "cell_type": "code",
   "execution_count": 215,
   "metadata": {},
   "outputs": [
    {
     "name": "stdout",
     "output_type": "stream",
     "text": [
      "Number of samples with this information: 5335\n"
     ]
    },
    {
     "data": {
      "text/plain": [
       "0.0    0.797751\n",
       "1.0    0.202249\n",
       "Name: DFI, dtype: float64"
      ]
     },
     "execution_count": 215,
     "metadata": {},
     "output_type": "execute_result"
    }
   ],
   "source": [
    "# Disease-free interval\n",
    "variable = \"DFI\"\n",
    "print(\"Number of samples with this information:\",\n",
    "      sum(df_pancan_clinical[variable].value_counts(normalize=False)))\n",
    "\n",
    "df_pancan_clinical[variable].value_counts(normalize=True)"
   ]
  },
  {
   "cell_type": "code",
   "execution_count": 216,
   "metadata": {},
   "outputs": [
    {
     "data": {
      "text/plain": [
       "1.776357e-15    5055\n",
       "2.442082e+00      16\n",
       "2.824627e-01      11\n",
       "1.057468e+00      11\n",
       "1.037920e-01      10\n",
       "                ... \n",
       "2.651409e+00       1\n",
       "2.901854e+00       1\n",
       "6.161371e-01       1\n",
       "3.080871e+00       1\n",
       "2.216237e+00       1\n",
       "Length: 55068, dtype: int64"
      ]
     },
     "execution_count": 216,
     "metadata": {},
     "output_type": "execute_result"
    }
   ],
   "source": [
    "gene_std = np.std(df_gene_exp.T, axis=0)\n",
    "gene_std.value_counts()"
   ]
  },
  {
   "cell_type": "code",
   "execution_count": 218,
   "metadata": {},
   "outputs": [
    {
     "data": {
      "text/plain": [
       "(5055,)"
      ]
     },
     "execution_count": 218,
     "metadata": {},
     "output_type": "execute_result"
    }
   ],
   "source": [
    "constant_genes = gene_std[gene_std < 1e-10]\n",
    "constant_genes.shape"
   ]
  },
  {
   "cell_type": "code",
   "execution_count": 219,
   "metadata": {},
   "outputs": [],
   "source": [
    "df_filter_gene_exp = df_gene_exp.T.drop(labels=constant_genes.index, axis=1, inplace=False)"
   ]
  },
  {
   "cell_type": "code",
   "execution_count": 220,
   "metadata": {},
   "outputs": [
    {
     "data": {
      "text/plain": [
       "(10535, 55443)"
      ]
     },
     "execution_count": 220,
     "metadata": {},
     "output_type": "execute_result"
    }
   ],
   "source": [
    "df_filter_gene_exp.shape"
   ]
  },
  {
   "cell_type": "code",
   "execution_count": 222,
   "metadata": {},
   "outputs": [
    {
     "name": "stdout",
     "output_type": "stream",
     "text": [
      "(55443,)\n"
     ]
    },
    {
     "data": {
      "text/plain": [
       "count    55443.000000\n",
       "mean         0.940348\n",
       "std          1.401372\n",
       "min          0.000000\n",
       "25%          0.000000\n",
       "50%          0.000000\n",
       "75%          1.466294\n",
       "max         11.234270\n",
       "dtype: float64"
      ]
     },
     "execution_count": 222,
     "metadata": {},
     "output_type": "execute_result"
    }
   ],
   "source": [
    "from statsmodels import robust\n",
    "\n",
    "mad_genes = robust.scale.mad(df_filter_gene_exp, axis=0)\n",
    "mad_genes = pd.Series(mad_genes, index=df_filter_gene_exp.columns)\n",
    "print(mad_genes.shape)\n",
    "mad_genes.describe()"
   ]
  },
  {
   "cell_type": "code",
   "execution_count": 223,
   "metadata": {},
   "outputs": [
    {
     "name": "stdout",
     "output_type": "stream",
     "text": [
      "28662 0.5169633677831286\n"
     ]
    },
    {
     "data": {
      "text/plain": [
       "(26781,)"
      ]
     },
     "execution_count": 223,
     "metadata": {},
     "output_type": "execute_result"
    }
   ],
   "source": [
    "print(sum(mad_genes==0), sum(mad_genes==0)/len(mad_genes))\n",
    "no_zero_mad_genes = mad_genes[mad_genes != 0]\n",
    "no_zero_mad_genes.shape"
   ]
  },
  {
   "cell_type": "code",
   "execution_count": 224,
   "metadata": {},
   "outputs": [
    {
     "data": {
      "text/plain": [
       "count    26781.000000\n",
       "mean         1.946742\n",
       "std          1.451355\n",
       "min          0.402230\n",
       "25%          0.914469\n",
       "50%          1.504990\n",
       "75%          2.363564\n",
       "max         11.234270\n",
       "dtype: float64"
      ]
     },
     "execution_count": 224,
     "metadata": {},
     "output_type": "execute_result"
    }
   ],
   "source": [
    "no_zero_mad_genes.describe()"
   ]
  },
  {
   "cell_type": "code",
   "execution_count": 225,
   "metadata": {},
   "outputs": [
    {
     "data": {
      "text/plain": [
       "(20000,)"
      ]
     },
     "execution_count": 225,
     "metadata": {},
     "output_type": "execute_result"
    }
   ],
   "source": [
    "filter_mad_genes = no_zero_mad_genes.sort_values(ascending=False)[:20000]\n",
    "filter_mad_genes.shape"
   ]
  },
  {
   "cell_type": "code",
   "execution_count": 226,
   "metadata": {},
   "outputs": [
    {
     "data": {
      "text/plain": [
       "count    20000.000000\n",
       "mean         2.363739\n",
       "std          1.459286\n",
       "min          0.920844\n",
       "25%          1.367404\n",
       "50%          1.895210\n",
       "75%          2.814276\n",
       "max         11.234270\n",
       "dtype: float64"
      ]
     },
     "execution_count": 226,
     "metadata": {},
     "output_type": "execute_result"
    }
   ],
   "source": [
    "filter_mad_genes.describe()"
   ]
  },
  {
   "cell_type": "code",
   "execution_count": 227,
   "metadata": {},
   "outputs": [
    {
     "data": {
      "text/plain": [
       "(10535, 20000)"
      ]
     },
     "execution_count": 227,
     "metadata": {},
     "output_type": "execute_result"
    }
   ],
   "source": [
    "df_filter_gene_exp_20 = df_filter_gene_exp[filter_mad_genes.index]\n",
    "df_filter_gene_exp_20.shape"
   ]
  },
  {
   "cell_type": "code",
   "execution_count": 228,
   "metadata": {},
   "outputs": [
    {
     "data": {
      "text/html": [
       "<div>\n",
       "<style scoped>\n",
       "    .dataframe tbody tr th:only-of-type {\n",
       "        vertical-align: middle;\n",
       "    }\n",
       "\n",
       "    .dataframe tbody tr th {\n",
       "        vertical-align: top;\n",
       "    }\n",
       "\n",
       "    .dataframe thead th {\n",
       "        text-align: right;\n",
       "    }\n",
       "</style>\n",
       "<table border=\"1\" class=\"dataframe\">\n",
       "  <thead>\n",
       "    <tr style=\"text-align: right;\">\n",
       "      <th>sample</th>\n",
       "      <th>ENSG00000160182.2</th>\n",
       "      <th>ENSG00000279009.1</th>\n",
       "      <th>ENSG00000257767.2</th>\n",
       "      <th>ENSG00000211935.3</th>\n",
       "      <th>ENSG00000105388.14</th>\n",
       "      <th>ENSG00000129455.15</th>\n",
       "      <th>ENSG00000143556.8</th>\n",
       "      <th>ENSG00000230937.9</th>\n",
       "      <th>ENSG00000242371.1</th>\n",
       "      <th>ENSG00000131002.11</th>\n",
       "      <th>...</th>\n",
       "      <th>ENSG00000179454.13</th>\n",
       "      <th>ENSG00000099974.7</th>\n",
       "      <th>ENSG00000168807.16</th>\n",
       "      <th>ENSG00000146067.15</th>\n",
       "      <th>ENSG00000114127.10</th>\n",
       "      <th>ENSG00000233476.3</th>\n",
       "      <th>ENSG00000169241.17</th>\n",
       "      <th>ENSG00000184428.12</th>\n",
       "      <th>ENSG00000275202.1</th>\n",
       "      <th>ENSG00000267544.1</th>\n",
       "    </tr>\n",
       "  </thead>\n",
       "  <tbody>\n",
       "    <tr>\n",
       "      <th>TCGA-02-0047-01</th>\n",
       "      <td>-9.9658</td>\n",
       "      <td>-9.9658</td>\n",
       "      <td>5.1811</td>\n",
       "      <td>-1.4305</td>\n",
       "      <td>-4.0350</td>\n",
       "      <td>-3.1714</td>\n",
       "      <td>-2.7274</td>\n",
       "      <td>-9.9658</td>\n",
       "      <td>0.3460</td>\n",
       "      <td>3.4830</td>\n",
       "      <td>...</td>\n",
       "      <td>2.5213</td>\n",
       "      <td>1.5709</td>\n",
       "      <td>2.2051</td>\n",
       "      <td>4.8059</td>\n",
       "      <td>2.1606</td>\n",
       "      <td>4.0454</td>\n",
       "      <td>3.7614</td>\n",
       "      <td>2.9432</td>\n",
       "      <td>1.1833</td>\n",
       "      <td>0.1124</td>\n",
       "    </tr>\n",
       "    <tr>\n",
       "      <th>TCGA-02-0055-01</th>\n",
       "      <td>-9.9658</td>\n",
       "      <td>1.2756</td>\n",
       "      <td>1.7532</td>\n",
       "      <td>-0.9132</td>\n",
       "      <td>-9.9658</td>\n",
       "      <td>-9.9658</td>\n",
       "      <td>-2.2447</td>\n",
       "      <td>-9.9658</td>\n",
       "      <td>0.1519</td>\n",
       "      <td>-4.6082</td>\n",
       "      <td>...</td>\n",
       "      <td>0.8246</td>\n",
       "      <td>1.9712</td>\n",
       "      <td>2.4386</td>\n",
       "      <td>4.6697</td>\n",
       "      <td>1.8282</td>\n",
       "      <td>4.9842</td>\n",
       "      <td>5.3509</td>\n",
       "      <td>3.3856</td>\n",
       "      <td>0.5955</td>\n",
       "      <td>0.4447</td>\n",
       "    </tr>\n",
       "    <tr>\n",
       "      <th>TCGA-02-2483-01</th>\n",
       "      <td>-9.9658</td>\n",
       "      <td>2.7314</td>\n",
       "      <td>-9.9658</td>\n",
       "      <td>-9.9658</td>\n",
       "      <td>-9.9658</td>\n",
       "      <td>-9.9658</td>\n",
       "      <td>-9.9658</td>\n",
       "      <td>-9.9658</td>\n",
       "      <td>-9.9658</td>\n",
       "      <td>3.6042</td>\n",
       "      <td>...</td>\n",
       "      <td>1.5064</td>\n",
       "      <td>0.6050</td>\n",
       "      <td>1.2333</td>\n",
       "      <td>3.8611</td>\n",
       "      <td>1.3679</td>\n",
       "      <td>3.9883</td>\n",
       "      <td>4.1211</td>\n",
       "      <td>4.6277</td>\n",
       "      <td>-0.0130</td>\n",
       "      <td>0.9493</td>\n",
       "    </tr>\n",
       "    <tr>\n",
       "      <th>TCGA-02-2485-01</th>\n",
       "      <td>-9.9658</td>\n",
       "      <td>-9.9658</td>\n",
       "      <td>-9.9658</td>\n",
       "      <td>-2.8262</td>\n",
       "      <td>-9.9658</td>\n",
       "      <td>-9.9658</td>\n",
       "      <td>-9.9658</td>\n",
       "      <td>-9.9658</td>\n",
       "      <td>-9.9658</td>\n",
       "      <td>3.8630</td>\n",
       "      <td>...</td>\n",
       "      <td>1.8524</td>\n",
       "      <td>1.7660</td>\n",
       "      <td>1.5758</td>\n",
       "      <td>4.8890</td>\n",
       "      <td>2.1670</td>\n",
       "      <td>4.1587</td>\n",
       "      <td>3.5399</td>\n",
       "      <td>4.4176</td>\n",
       "      <td>0.9862</td>\n",
       "      <td>1.6604</td>\n",
       "    </tr>\n",
       "    <tr>\n",
       "      <th>TCGA-04-1331-01</th>\n",
       "      <td>-1.1172</td>\n",
       "      <td>-9.9658</td>\n",
       "      <td>-9.9658</td>\n",
       "      <td>-9.9658</td>\n",
       "      <td>-9.9658</td>\n",
       "      <td>7.5607</td>\n",
       "      <td>-9.9658</td>\n",
       "      <td>4.1764</td>\n",
       "      <td>-1.2481</td>\n",
       "      <td>-9.9658</td>\n",
       "      <td>...</td>\n",
       "      <td>1.1577</td>\n",
       "      <td>0.7321</td>\n",
       "      <td>2.4753</td>\n",
       "      <td>5.9693</td>\n",
       "      <td>1.7009</td>\n",
       "      <td>2.2573</td>\n",
       "      <td>5.2235</td>\n",
       "      <td>4.2795</td>\n",
       "      <td>-0.4521</td>\n",
       "      <td>-0.6193</td>\n",
       "    </tr>\n",
       "  </tbody>\n",
       "</table>\n",
       "<p>5 rows × 20000 columns</p>\n",
       "</div>"
      ],
      "text/plain": [
       "sample           ENSG00000160182.2  ENSG00000279009.1  ENSG00000257767.2  \\\n",
       "TCGA-02-0047-01            -9.9658            -9.9658             5.1811   \n",
       "TCGA-02-0055-01            -9.9658             1.2756             1.7532   \n",
       "TCGA-02-2483-01            -9.9658             2.7314            -9.9658   \n",
       "TCGA-02-2485-01            -9.9658            -9.9658            -9.9658   \n",
       "TCGA-04-1331-01            -1.1172            -9.9658            -9.9658   \n",
       "\n",
       "sample           ENSG00000211935.3  ENSG00000105388.14  ENSG00000129455.15  \\\n",
       "TCGA-02-0047-01            -1.4305             -4.0350             -3.1714   \n",
       "TCGA-02-0055-01            -0.9132             -9.9658             -9.9658   \n",
       "TCGA-02-2483-01            -9.9658             -9.9658             -9.9658   \n",
       "TCGA-02-2485-01            -2.8262             -9.9658             -9.9658   \n",
       "TCGA-04-1331-01            -9.9658             -9.9658              7.5607   \n",
       "\n",
       "sample           ENSG00000143556.8  ENSG00000230937.9  ENSG00000242371.1  \\\n",
       "TCGA-02-0047-01            -2.7274            -9.9658             0.3460   \n",
       "TCGA-02-0055-01            -2.2447            -9.9658             0.1519   \n",
       "TCGA-02-2483-01            -9.9658            -9.9658            -9.9658   \n",
       "TCGA-02-2485-01            -9.9658            -9.9658            -9.9658   \n",
       "TCGA-04-1331-01            -9.9658             4.1764            -1.2481   \n",
       "\n",
       "sample           ENSG00000131002.11  ...  ENSG00000179454.13  \\\n",
       "TCGA-02-0047-01              3.4830  ...              2.5213   \n",
       "TCGA-02-0055-01             -4.6082  ...              0.8246   \n",
       "TCGA-02-2483-01              3.6042  ...              1.5064   \n",
       "TCGA-02-2485-01              3.8630  ...              1.8524   \n",
       "TCGA-04-1331-01             -9.9658  ...              1.1577   \n",
       "\n",
       "sample           ENSG00000099974.7  ENSG00000168807.16  ENSG00000146067.15  \\\n",
       "TCGA-02-0047-01             1.5709              2.2051              4.8059   \n",
       "TCGA-02-0055-01             1.9712              2.4386              4.6697   \n",
       "TCGA-02-2483-01             0.6050              1.2333              3.8611   \n",
       "TCGA-02-2485-01             1.7660              1.5758              4.8890   \n",
       "TCGA-04-1331-01             0.7321              2.4753              5.9693   \n",
       "\n",
       "sample           ENSG00000114127.10  ENSG00000233476.3  ENSG00000169241.17  \\\n",
       "TCGA-02-0047-01              2.1606             4.0454              3.7614   \n",
       "TCGA-02-0055-01              1.8282             4.9842              5.3509   \n",
       "TCGA-02-2483-01              1.3679             3.9883              4.1211   \n",
       "TCGA-02-2485-01              2.1670             4.1587              3.5399   \n",
       "TCGA-04-1331-01              1.7009             2.2573              5.2235   \n",
       "\n",
       "sample           ENSG00000184428.12  ENSG00000275202.1  ENSG00000267544.1  \n",
       "TCGA-02-0047-01              2.9432             1.1833             0.1124  \n",
       "TCGA-02-0055-01              3.3856             0.5955             0.4447  \n",
       "TCGA-02-2483-01              4.6277            -0.0130             0.9493  \n",
       "TCGA-02-2485-01              4.4176             0.9862             1.6604  \n",
       "TCGA-04-1331-01              4.2795            -0.4521            -0.6193  \n",
       "\n",
       "[5 rows x 20000 columns]"
      ]
     },
     "execution_count": 228,
     "metadata": {},
     "output_type": "execute_result"
    }
   ],
   "source": [
    "df_gene_exp = df_filter_gene_exp_20\n",
    "df_gene_exp.head()"
   ]
  },
  {
   "cell_type": "code",
   "execution_count": 229,
   "metadata": {},
   "outputs": [
    {
     "data": {
      "text/plain": [
       "False"
      ]
     },
     "execution_count": 229,
     "metadata": {},
     "output_type": "execute_result"
    }
   ],
   "source": [
    "survival_sample = df_pancan_clinical.index\n",
    "survival_sample.duplicated().any()"
   ]
  },
  {
   "cell_type": "code",
   "execution_count": 230,
   "metadata": {},
   "outputs": [
    {
     "name": "stdout",
     "output_type": "stream",
     "text": [
      "(10496, 35)\n"
     ]
    },
    {
     "data": {
      "text/html": [
       "<div>\n",
       "<style scoped>\n",
       "    .dataframe tbody tr th:only-of-type {\n",
       "        vertical-align: middle;\n",
       "    }\n",
       "\n",
       "    .dataframe tbody tr th {\n",
       "        vertical-align: top;\n",
       "    }\n",
       "\n",
       "    .dataframe thead th {\n",
       "        text-align: right;\n",
       "    }\n",
       "</style>\n",
       "<table border=\"1\" class=\"dataframe\">\n",
       "  <thead>\n",
       "    <tr style=\"text-align: right;\">\n",
       "      <th></th>\n",
       "      <th>_PATIENT</th>\n",
       "      <th>cancer type abbreviation</th>\n",
       "      <th>age_at_initial_pathologic_diagnosis</th>\n",
       "      <th>gender</th>\n",
       "      <th>race</th>\n",
       "      <th>ajcc_pathologic_tumor_stage</th>\n",
       "      <th>clinical_stage</th>\n",
       "      <th>histological_type</th>\n",
       "      <th>histological_grade</th>\n",
       "      <th>initial_pathologic_dx_year</th>\n",
       "      <th>...</th>\n",
       "      <th>_TIME_TO_EVENT</th>\n",
       "      <th>OS</th>\n",
       "      <th>OS.time</th>\n",
       "      <th>DSS</th>\n",
       "      <th>DSS.time</th>\n",
       "      <th>DFI</th>\n",
       "      <th>DFI.time</th>\n",
       "      <th>PFI</th>\n",
       "      <th>PFI.time</th>\n",
       "      <th>Redaction</th>\n",
       "    </tr>\n",
       "  </thead>\n",
       "  <tbody>\n",
       "    <tr>\n",
       "      <th>TCGA-02-0047-01</th>\n",
       "      <td>TCGA-02-0047</td>\n",
       "      <td>GBM</td>\n",
       "      <td>78.0</td>\n",
       "      <td>MALE</td>\n",
       "      <td>WHITE</td>\n",
       "      <td>NaN</td>\n",
       "      <td>NaN</td>\n",
       "      <td>Untreated primary (de novo) GBM</td>\n",
       "      <td>NaN</td>\n",
       "      <td>2005.0</td>\n",
       "      <td>...</td>\n",
       "      <td>448.0</td>\n",
       "      <td>1.0</td>\n",
       "      <td>448.0</td>\n",
       "      <td>1.0</td>\n",
       "      <td>448.0</td>\n",
       "      <td>NaN</td>\n",
       "      <td>NaN</td>\n",
       "      <td>1.0</td>\n",
       "      <td>57.0</td>\n",
       "      <td>NaN</td>\n",
       "    </tr>\n",
       "    <tr>\n",
       "      <th>TCGA-02-0055-01</th>\n",
       "      <td>TCGA-02-0055</td>\n",
       "      <td>GBM</td>\n",
       "      <td>62.0</td>\n",
       "      <td>FEMALE</td>\n",
       "      <td>WHITE</td>\n",
       "      <td>NaN</td>\n",
       "      <td>NaN</td>\n",
       "      <td>Untreated primary (de novo) GBM</td>\n",
       "      <td>NaN</td>\n",
       "      <td>2005.0</td>\n",
       "      <td>...</td>\n",
       "      <td>76.0</td>\n",
       "      <td>1.0</td>\n",
       "      <td>76.0</td>\n",
       "      <td>1.0</td>\n",
       "      <td>76.0</td>\n",
       "      <td>NaN</td>\n",
       "      <td>NaN</td>\n",
       "      <td>1.0</td>\n",
       "      <td>6.0</td>\n",
       "      <td>NaN</td>\n",
       "    </tr>\n",
       "    <tr>\n",
       "      <th>TCGA-02-2483-01</th>\n",
       "      <td>TCGA-02-2483</td>\n",
       "      <td>GBM</td>\n",
       "      <td>43.0</td>\n",
       "      <td>MALE</td>\n",
       "      <td>ASIAN</td>\n",
       "      <td>NaN</td>\n",
       "      <td>NaN</td>\n",
       "      <td>Untreated primary (de novo) GBM</td>\n",
       "      <td>NaN</td>\n",
       "      <td>2008.0</td>\n",
       "      <td>...</td>\n",
       "      <td>466.0</td>\n",
       "      <td>0.0</td>\n",
       "      <td>466.0</td>\n",
       "      <td>0.0</td>\n",
       "      <td>466.0</td>\n",
       "      <td>NaN</td>\n",
       "      <td>NaN</td>\n",
       "      <td>0.0</td>\n",
       "      <td>466.0</td>\n",
       "      <td>NaN</td>\n",
       "    </tr>\n",
       "    <tr>\n",
       "      <th>TCGA-02-2485-01</th>\n",
       "      <td>TCGA-02-2485</td>\n",
       "      <td>GBM</td>\n",
       "      <td>53.0</td>\n",
       "      <td>MALE</td>\n",
       "      <td>BLACK OR AFRICAN AMERICAN</td>\n",
       "      <td>NaN</td>\n",
       "      <td>NaN</td>\n",
       "      <td>Untreated primary (de novo) GBM</td>\n",
       "      <td>NaN</td>\n",
       "      <td>2009.0</td>\n",
       "      <td>...</td>\n",
       "      <td>470.0</td>\n",
       "      <td>0.0</td>\n",
       "      <td>470.0</td>\n",
       "      <td>0.0</td>\n",
       "      <td>470.0</td>\n",
       "      <td>NaN</td>\n",
       "      <td>NaN</td>\n",
       "      <td>1.0</td>\n",
       "      <td>186.0</td>\n",
       "      <td>NaN</td>\n",
       "    </tr>\n",
       "    <tr>\n",
       "      <th>TCGA-04-1331-01</th>\n",
       "      <td>TCGA-04-1331</td>\n",
       "      <td>OV</td>\n",
       "      <td>78.0</td>\n",
       "      <td>FEMALE</td>\n",
       "      <td>WHITE</td>\n",
       "      <td>NaN</td>\n",
       "      <td>Stage IIIC</td>\n",
       "      <td>Serous Cystadenocarcinoma</td>\n",
       "      <td>G3</td>\n",
       "      <td>2004.0</td>\n",
       "      <td>...</td>\n",
       "      <td>1336.0</td>\n",
       "      <td>1.0</td>\n",
       "      <td>1336.0</td>\n",
       "      <td>1.0</td>\n",
       "      <td>1336.0</td>\n",
       "      <td>1.0</td>\n",
       "      <td>459.0</td>\n",
       "      <td>1.0</td>\n",
       "      <td>459.0</td>\n",
       "      <td>Redacted</td>\n",
       "    </tr>\n",
       "  </tbody>\n",
       "</table>\n",
       "<p>5 rows × 35 columns</p>\n",
       "</div>"
      ],
      "text/plain": [
       "                     _PATIENT cancer type abbreviation  \\\n",
       "TCGA-02-0047-01  TCGA-02-0047                      GBM   \n",
       "TCGA-02-0055-01  TCGA-02-0055                      GBM   \n",
       "TCGA-02-2483-01  TCGA-02-2483                      GBM   \n",
       "TCGA-02-2485-01  TCGA-02-2485                      GBM   \n",
       "TCGA-04-1331-01  TCGA-04-1331                       OV   \n",
       "\n",
       "                 age_at_initial_pathologic_diagnosis  gender  \\\n",
       "TCGA-02-0047-01                                 78.0    MALE   \n",
       "TCGA-02-0055-01                                 62.0  FEMALE   \n",
       "TCGA-02-2483-01                                 43.0    MALE   \n",
       "TCGA-02-2485-01                                 53.0    MALE   \n",
       "TCGA-04-1331-01                                 78.0  FEMALE   \n",
       "\n",
       "                                      race ajcc_pathologic_tumor_stage  \\\n",
       "TCGA-02-0047-01                      WHITE                         NaN   \n",
       "TCGA-02-0055-01                      WHITE                         NaN   \n",
       "TCGA-02-2483-01                      ASIAN                         NaN   \n",
       "TCGA-02-2485-01  BLACK OR AFRICAN AMERICAN                         NaN   \n",
       "TCGA-04-1331-01                      WHITE                         NaN   \n",
       "\n",
       "                clinical_stage                histological_type  \\\n",
       "TCGA-02-0047-01            NaN  Untreated primary (de novo) GBM   \n",
       "TCGA-02-0055-01            NaN  Untreated primary (de novo) GBM   \n",
       "TCGA-02-2483-01            NaN  Untreated primary (de novo) GBM   \n",
       "TCGA-02-2485-01            NaN  Untreated primary (de novo) GBM   \n",
       "TCGA-04-1331-01     Stage IIIC        Serous Cystadenocarcinoma   \n",
       "\n",
       "                histological_grade  initial_pathologic_dx_year  ...  \\\n",
       "TCGA-02-0047-01                NaN                      2005.0  ...   \n",
       "TCGA-02-0055-01                NaN                      2005.0  ...   \n",
       "TCGA-02-2483-01                NaN                      2008.0  ...   \n",
       "TCGA-02-2485-01                NaN                      2009.0  ...   \n",
       "TCGA-04-1331-01                 G3                      2004.0  ...   \n",
       "\n",
       "                _TIME_TO_EVENT   OS OS.time  DSS  DSS.time  DFI DFI.time  PFI  \\\n",
       "TCGA-02-0047-01          448.0  1.0   448.0  1.0     448.0  NaN      NaN  1.0   \n",
       "TCGA-02-0055-01           76.0  1.0    76.0  1.0      76.0  NaN      NaN  1.0   \n",
       "TCGA-02-2483-01          466.0  0.0   466.0  0.0     466.0  NaN      NaN  0.0   \n",
       "TCGA-02-2485-01          470.0  0.0   470.0  0.0     470.0  NaN      NaN  1.0   \n",
       "TCGA-04-1331-01         1336.0  1.0  1336.0  1.0    1336.0  1.0    459.0  1.0   \n",
       "\n",
       "                PFI.time Redaction  \n",
       "TCGA-02-0047-01     57.0       NaN  \n",
       "TCGA-02-0055-01      6.0       NaN  \n",
       "TCGA-02-2483-01    466.0       NaN  \n",
       "TCGA-02-2485-01    186.0       NaN  \n",
       "TCGA-04-1331-01    459.0  Redacted  \n",
       "\n",
       "[5 rows x 35 columns]"
      ]
     },
     "execution_count": 230,
     "metadata": {},
     "output_type": "execute_result"
    }
   ],
   "source": [
    "print(df_pancan_clinical.shape)\n",
    "df_pancan_clinical.head()"
   ]
  },
  {
   "cell_type": "code",
   "execution_count": 231,
   "metadata": {},
   "outputs": [
    {
     "data": {
      "text/plain": [
       "BRCA    1211\n",
       "KIRC     603\n",
       "LUAD     574\n",
       "THCA     571\n",
       "HNSC     564\n",
       "LUSC     548\n",
       "PRAD     548\n",
       "LGG      522\n",
       "SKCM     470\n",
       "STAD     450\n",
       "OV       427\n",
       "BLCA     426\n",
       "LIHC     421\n",
       "COAD     329\n",
       "KIRP     321\n",
       "CESC     309\n",
       "SARC     264\n",
       "ESCA     195\n",
       "UCEC     194\n",
       "PCPG     185\n",
       "PAAD     183\n",
       "LAML     173\n",
       "GBM      165\n",
       "TGCT     137\n",
       "THYM     121\n",
       "READ     102\n",
       "KICH      91\n",
       "MESO      87\n",
       "UVM       79\n",
       "ACC       77\n",
       "UCS       57\n",
       "DLBC      47\n",
       "CHOL      45\n",
       "Name: cancer type abbreviation, dtype: int64"
      ]
     },
     "execution_count": 231,
     "metadata": {},
     "output_type": "execute_result"
    }
   ],
   "source": [
    "df_pancan_clinical['cancer type abbreviation'].value_counts(normalize=False, dropna=False)"
   ]
  },
  {
   "cell_type": "code",
   "execution_count": 232,
   "metadata": {},
   "outputs": [
    {
     "data": {
      "text/plain": [
       "(1122,)"
      ]
     },
     "execution_count": 232,
     "metadata": {},
     "output_type": "execute_result"
    }
   ],
   "source": [
    "# Samples are filtered from the survival dataset, as we are interesting in survival analysis\n",
    "lung_sample = df_pancan_clinical[df_pancan_clinical['cancer type abbreviation'].apply(lambda x: x in [\"LUAD\", \"LUSC\"])].index\n",
    "lung_sample.shape"
   ]
  },
  {
   "cell_type": "code",
   "execution_count": 233,
   "metadata": {},
   "outputs": [
    {
     "name": "stdout",
     "output_type": "stream",
     "text": [
      "(10534, 4)\n"
     ]
    },
    {
     "data": {
      "text/html": [
       "<div>\n",
       "<style scoped>\n",
       "    .dataframe tbody tr th:only-of-type {\n",
       "        vertical-align: middle;\n",
       "    }\n",
       "\n",
       "    .dataframe tbody tr th {\n",
       "        vertical-align: top;\n",
       "    }\n",
       "\n",
       "    .dataframe thead th {\n",
       "        text-align: right;\n",
       "    }\n",
       "</style>\n",
       "<table border=\"1\" class=\"dataframe\">\n",
       "  <thead>\n",
       "    <tr style=\"text-align: right;\">\n",
       "      <th></th>\n",
       "      <th>sample_type_id</th>\n",
       "      <th>sample_type</th>\n",
       "      <th>_primary_disease</th>\n",
       "      <th>tumor_normal</th>\n",
       "    </tr>\n",
       "  </thead>\n",
       "  <tbody>\n",
       "    <tr>\n",
       "      <th>TCGA-02-0047-01</th>\n",
       "      <td>1.0</td>\n",
       "      <td>Primary Tumor</td>\n",
       "      <td>glioblastoma multiforme</td>\n",
       "      <td>Tumor</td>\n",
       "    </tr>\n",
       "    <tr>\n",
       "      <th>TCGA-02-0055-01</th>\n",
       "      <td>1.0</td>\n",
       "      <td>Primary Tumor</td>\n",
       "      <td>glioblastoma multiforme</td>\n",
       "      <td>Tumor</td>\n",
       "    </tr>\n",
       "    <tr>\n",
       "      <th>TCGA-02-2483-01</th>\n",
       "      <td>1.0</td>\n",
       "      <td>Primary Tumor</td>\n",
       "      <td>glioblastoma multiforme</td>\n",
       "      <td>Tumor</td>\n",
       "    </tr>\n",
       "    <tr>\n",
       "      <th>TCGA-02-2485-01</th>\n",
       "      <td>1.0</td>\n",
       "      <td>Primary Tumor</td>\n",
       "      <td>glioblastoma multiforme</td>\n",
       "      <td>Tumor</td>\n",
       "    </tr>\n",
       "    <tr>\n",
       "      <th>TCGA-04-1331-01</th>\n",
       "      <td>1.0</td>\n",
       "      <td>Primary Tumor</td>\n",
       "      <td>ovarian serous cystadenocarcinoma</td>\n",
       "      <td>Tumor</td>\n",
       "    </tr>\n",
       "  </tbody>\n",
       "</table>\n",
       "</div>"
      ],
      "text/plain": [
       "                 sample_type_id    sample_type  \\\n",
       "TCGA-02-0047-01             1.0  Primary Tumor   \n",
       "TCGA-02-0055-01             1.0  Primary Tumor   \n",
       "TCGA-02-2483-01             1.0  Primary Tumor   \n",
       "TCGA-02-2485-01             1.0  Primary Tumor   \n",
       "TCGA-04-1331-01             1.0  Primary Tumor   \n",
       "\n",
       "                                  _primary_disease tumor_normal  \n",
       "TCGA-02-0047-01            glioblastoma multiforme        Tumor  \n",
       "TCGA-02-0055-01            glioblastoma multiforme        Tumor  \n",
       "TCGA-02-2483-01            glioblastoma multiforme        Tumor  \n",
       "TCGA-02-2485-01            glioblastoma multiforme        Tumor  \n",
       "TCGA-04-1331-01  ovarian serous cystadenocarcinoma        Tumor  "
      ]
     },
     "execution_count": 233,
     "metadata": {},
     "output_type": "execute_result"
    }
   ],
   "source": [
    "print(df_pancan_sample.shape)\n",
    "df_pancan_sample.head()"
   ]
  },
  {
   "cell_type": "code",
   "execution_count": 234,
   "metadata": {},
   "outputs": [
    {
     "data": {
      "text/plain": [
       "(1122, 20000)"
      ]
     },
     "execution_count": 234,
     "metadata": {},
     "output_type": "execute_result"
    }
   ],
   "source": [
    "df_gene_exp_lung = df_gene_exp.loc[lung_sample]\n",
    "df_gene_exp_lung.shape"
   ]
  },
  {
   "cell_type": "code",
   "execution_count": 235,
   "metadata": {},
   "outputs": [
    {
     "data": {
      "text/plain": [
       "(1122, 4)"
      ]
     },
     "execution_count": 235,
     "metadata": {},
     "output_type": "execute_result"
    }
   ],
   "source": [
    "df_sample_lung = df_pancan_sample.loc[lung_sample]\n",
    "df_sample_lung.shape"
   ]
  },
  {
   "cell_type": "code",
   "execution_count": 236,
   "metadata": {},
   "outputs": [
    {
     "data": {
      "text/plain": [
       "(1122, 35)"
      ]
     },
     "execution_count": 236,
     "metadata": {},
     "output_type": "execute_result"
    }
   ],
   "source": [
    "df_survival_lung = df_pancan_clinical.loc[lung_sample, :]\n",
    "df_survival_lung.shape"
   ]
  },
  {
   "cell_type": "code",
   "execution_count": 237,
   "metadata": {},
   "outputs": [
    {
     "name": "stdout",
     "output_type": "stream",
     "text": [
      "Number of samples with this information: 1122\n"
     ]
    },
    {
     "data": {
      "text/plain": [
       "Tumor     1013\n",
       "Normal     109\n",
       "Name: tumor_normal, dtype: int64"
      ]
     },
     "execution_count": 237,
     "metadata": {},
     "output_type": "execute_result"
    }
   ],
   "source": [
    "# Tumor/normal variable\n",
    "variable = \"tumor_normal\"\n",
    "print(\"Number of samples with this information:\",\n",
    "      sum(df_sample_lung[variable].value_counts(normalize=False, dropna=False)))\n",
    "\n",
    "df_sample_lung[variable].value_counts(normalize=False, dropna=False)"
   ]
  },
  {
   "cell_type": "code",
   "execution_count": 238,
   "metadata": {},
   "outputs": [
    {
     "name": "stdout",
     "output_type": "stream",
     "text": [
      "Number of samples with this information: 1122\n"
     ]
    },
    {
     "data": {
      "text/plain": [
       "Primary Tumor          1011\n",
       "Solid Tissue Normal     109\n",
       "Recurrent Tumor           2\n",
       "Name: sample_type, dtype: int64"
      ]
     },
     "execution_count": 238,
     "metadata": {},
     "output_type": "execute_result"
    }
   ],
   "source": [
    "# Sample type variable\n",
    "variable = \"sample_type\"\n",
    "print(\"Number of samples with this information:\",\n",
    "      sum(df_sample_lung[variable].value_counts(normalize=False, dropna=False)))\n",
    "\n",
    "df_sample_lung[variable].value_counts(normalize=False, dropna=False)"
   ]
  },
  {
   "cell_type": "code",
   "execution_count": 239,
   "metadata": {},
   "outputs": [
    {
     "name": "stdout",
     "output_type": "stream",
     "text": [
      "Number of samples with this information: 1122\n"
     ]
    },
    {
     "data": {
      "text/plain": [
       "0.0    663\n",
       "1.0    459\n",
       "Name: OS, dtype: int64"
      ]
     },
     "execution_count": 239,
     "metadata": {},
     "output_type": "execute_result"
    }
   ],
   "source": [
    "# Overall survival\n",
    "print(\"Number of samples with this information:\",\n",
    "      sum(df_survival_lung.OS.value_counts(normalize=False)))\n",
    "\n",
    "df_survival_lung.OS.value_counts(normalize=False, dropna=False)"
   ]
  },
  {
   "cell_type": "code",
   "execution_count": 240,
   "metadata": {},
   "outputs": [
    {
     "name": "stdout",
     "output_type": "stream",
     "text": [
      "Number of samples with this information: 1023\n"
     ]
    },
    {
     "data": {
      "text/plain": [
       "0.0    791\n",
       "1.0    232\n",
       "NaN     99\n",
       "Name: DSS, dtype: int64"
      ]
     },
     "execution_count": 240,
     "metadata": {},
     "output_type": "execute_result"
    }
   ],
   "source": [
    "# Disease specific survival\n",
    "print(\"Number of samples with this information:\",\n",
    "      sum(df_survival_lung.DSS.value_counts(normalize=False)))\n",
    "\n",
    "df_survival_lung.DSS.value_counts(normalize=False, dropna=False)"
   ]
  },
  {
   "cell_type": "code",
   "execution_count": 241,
   "metadata": {},
   "outputs": [
    {
     "name": "stdout",
     "output_type": "stream",
     "text": [
      "Number of samples with this information: 1122\n"
     ]
    },
    {
     "data": {
      "text/plain": [
       "0.0    726\n",
       "1.0    396\n",
       "Name: PFI, dtype: int64"
      ]
     },
     "execution_count": 241,
     "metadata": {},
     "output_type": "execute_result"
    }
   ],
   "source": [
    "# Progression-free interval\n",
    "print(\"Number of samples with this information:\",\n",
    "      sum(df_survival_lung['PFI'].value_counts(normalize=False)))\n",
    "\n",
    "df_survival_lung['PFI'].value_counts(normalize=False, dropna=False)"
   ]
  },
  {
   "cell_type": "code",
   "execution_count": 242,
   "metadata": {},
   "outputs": [
    {
     "name": "stdout",
     "output_type": "stream",
     "text": [
      "Number of samples with this information: 664\n"
     ]
    },
    {
     "data": {
      "text/plain": [
       "0.0    502\n",
       "NaN    458\n",
       "1.0    162\n",
       "Name: DFI, dtype: int64"
      ]
     },
     "execution_count": 242,
     "metadata": {},
     "output_type": "execute_result"
    }
   ],
   "source": [
    "# Disease-free interval\n",
    "print(\"Number of samples with this information:\",\n",
    "      sum(df_survival_lung['DFI'].value_counts(normalize=False)))\n",
    "\n",
    "df_survival_lung['DFI'].value_counts(normalize=False, dropna=False)"
   ]
  },
  {
   "cell_type": "code",
   "execution_count": 243,
   "metadata": {},
   "outputs": [
    {
     "data": {
      "text/plain": [
       "9374"
      ]
     },
     "execution_count": 243,
     "metadata": {},
     "output_type": "execute_result"
    }
   ],
   "source": [
    "no_lung_sample = df_pancan_clinical.index.difference(lung_sample)\n",
    "len(no_lung_sample)"
   ]
  },
  {
   "cell_type": "code",
   "execution_count": 244,
   "metadata": {},
   "outputs": [
    {
     "data": {
      "text/plain": [
       "True"
      ]
     },
     "execution_count": 244,
     "metadata": {},
     "output_type": "execute_result"
    }
   ],
   "source": [
    "len(no_lung_sample) == (df_pancan_clinical.shape[0] - df_gene_exp_lung.shape[0])"
   ]
  },
  {
   "cell_type": "code",
   "execution_count": 245,
   "metadata": {},
   "outputs": [
    {
     "data": {
      "text/plain": [
       "(9374, 20000)"
      ]
     },
     "execution_count": 245,
     "metadata": {},
     "output_type": "execute_result"
    }
   ],
   "source": [
    "df_gene_exp_no_lung = df_gene_exp.loc[no_lung_sample]\n",
    "df_gene_exp_no_lung.shape"
   ]
  },
  {
   "cell_type": "code",
   "execution_count": 246,
   "metadata": {},
   "outputs": [
    {
     "data": {
      "text/plain": [
       "(9374, 4)"
      ]
     },
     "execution_count": 246,
     "metadata": {},
     "output_type": "execute_result"
    }
   ],
   "source": [
    "df_sample_no_lung = df_pancan_sample.loc[sample_no_lung_common]\n",
    "df_sample_no_lung.shape"
   ]
  },
  {
   "cell_type": "code",
   "execution_count": 247,
   "metadata": {},
   "outputs": [
    {
     "data": {
      "text/plain": [
       "Primary Tumor                                      0.869639\n",
       "Solid Tissue Normal                                0.064327\n",
       "Metastatic                                         0.041818\n",
       "Primary Blood Derived Cancer - Peripheral Blood    0.018455\n",
       "Recurrent Tumor                                    0.004587\n",
       "Additional - New Primary                           0.001067\n",
       "Additional Metastatic                              0.000107\n",
       "Name: sample_type, dtype: float64"
      ]
     },
     "execution_count": 247,
     "metadata": {},
     "output_type": "execute_result"
    }
   ],
   "source": [
    "# Sample type variable\n",
    "df_sample_no_lung.sample_type.value_counts(normalize=True, dropna=False)"
   ]
  },
  {
   "cell_type": "code",
   "execution_count": 248,
   "metadata": {},
   "outputs": [
    {
     "data": {
      "text/plain": [
       "Tumor     0.935673\n",
       "Normal    0.064327\n",
       "Name: tumor_normal, dtype: float64"
      ]
     },
     "execution_count": 248,
     "metadata": {},
     "output_type": "execute_result"
    }
   ],
   "source": [
    "# Tumor/Normal variable\n",
    "df_sample_no_lung.tumor_normal.value_counts(normalize=True, dropna=False)"
   ]
  },
  {
   "cell_type": "code",
   "execution_count": 249,
   "metadata": {},
   "outputs": [
    {
     "data": {
      "text/plain": [
       "9374"
      ]
     },
     "execution_count": 249,
     "metadata": {},
     "output_type": "execute_result"
    }
   ],
   "source": [
    "survival_no_lung_common = df_gene_exp_no_lung.index.intersection(df_pancan_clinical.index)\n",
    "len(survival_no_lung_common)"
   ]
  },
  {
   "cell_type": "code",
   "execution_count": 250,
   "metadata": {},
   "outputs": [
    {
     "data": {
      "text/plain": [
       "(9374, 35)"
      ]
     },
     "execution_count": 250,
     "metadata": {},
     "output_type": "execute_result"
    }
   ],
   "source": [
    "df_survival_no_lung = df_pancan_clinical.loc[survival_no_lung_common]\n",
    "df_survival_no_lung.shape"
   ]
  },
  {
   "cell_type": "code",
   "execution_count": 251,
   "metadata": {},
   "outputs": [
    {
     "name": "stdout",
     "output_type": "stream",
     "text": [
      "Number of samples with this information: 9367\n"
     ]
    },
    {
     "data": {
      "text/plain": [
       "0.0    0.698208\n",
       "1.0    0.301045\n",
       "NaN    0.000747\n",
       "Name: OS, dtype: float64"
      ]
     },
     "execution_count": 251,
     "metadata": {},
     "output_type": "execute_result"
    }
   ],
   "source": [
    "# Overall survival\n",
    "variable = \"OS\"\n",
    "print(\"Number of samples with this information:\",\n",
    "      sum(df_survival_no_lung[variable].value_counts(normalize=False)))\n",
    "\n",
    "df_survival_no_lung[variable].value_counts(normalize=True, dropna=False)"
   ]
  },
  {
   "cell_type": "code",
   "execution_count": 252,
   "metadata": {},
   "outputs": [
    {
     "name": "stdout",
     "output_type": "stream",
     "text": [
      "Number of samples with this information: 9194\n"
     ]
    },
    {
     "data": {
      "text/plain": [
       "0.0    0.641988\n",
       "1.0    0.338809\n",
       "NaN    0.019202\n",
       "Name: PFI, dtype: float64"
      ]
     },
     "execution_count": 252,
     "metadata": {},
     "output_type": "execute_result"
    }
   ],
   "source": [
    "# Progression-free interval\n",
    "variable = \"PFI\"\n",
    "print(\"Number of samples with this information:\",\n",
    "      sum(df_survival_no_lung[variable].value_counts(normalize=False)))\n",
    "\n",
    "df_survival_no_lung[variable].value_counts(normalize=True, dropna=False)"
   ]
  },
  {
   "cell_type": "code",
   "execution_count": 253,
   "metadata": {},
   "outputs": [
    {
     "name": "stdout",
     "output_type": "stream",
     "text": [
      "Number of samples with this information: 8990\n"
     ]
    },
    {
     "data": {
      "text/plain": [
       "0.0    0.755174\n",
       "1.0    0.203862\n",
       "NaN    0.040964\n",
       "Name: DSS, dtype: float64"
      ]
     },
     "execution_count": 253,
     "metadata": {},
     "output_type": "execute_result"
    }
   ],
   "source": [
    "# Disease-specific survival\n",
    "variable = \"DSS\"\n",
    "print(\"Number of samples with this information:\",\n",
    "      sum(df_survival_no_lung[variable].value_counts(normalize=False)))\n",
    "\n",
    "df_survival_no_lung[variable].value_counts(normalize=True, dropna=False)"
   ]
  },
  {
   "cell_type": "code",
   "execution_count": 254,
   "metadata": {},
   "outputs": [
    {
     "name": "stdout",
     "output_type": "stream",
     "text": [
      "Number of samples with this information: 4671\n"
     ]
    },
    {
     "data": {
      "text/plain": [
       "NaN    0.501707\n",
       "0.0    0.400469\n",
       "1.0    0.097824\n",
       "Name: DFI, dtype: float64"
      ]
     },
     "execution_count": 254,
     "metadata": {},
     "output_type": "execute_result"
    }
   ],
   "source": [
    "# Disease-free interval\n",
    "variable = \"DFI\"\n",
    "print(\"Number of samples with this information:\",\n",
    "      sum(df_survival_no_lung[variable].value_counts(normalize=False)))\n",
    "\n",
    "df_survival_no_lung[variable].value_counts(normalize=True, dropna=False)"
   ]
  },
  {
   "cell_type": "code",
   "execution_count": 257,
   "metadata": {},
   "outputs": [],
   "source": [
    "df_filter_gene_exp_20.to_pickle('./mad_filter_pancan_all_TCGA_20.pkl')\n",
    "df_gene_exp_lung.to_pickle('./Lung_pancan_exp.pkl')\n",
    "df_sample_lung.to_pickle('./Lung_pancan_sample.pkl')\n",
    "df_survival_lung.to_pickle('./Lung_pancan_survival.pkl')\n",
    "df_gene_exp_no_lung.to_pickle('./non_Lung_pancan_exp.pkl')\n",
    "df_sample_no_lung.to_pickle('./non_Lung_pancan_sampletype.pkl')\n",
    "df_survival_no_lung.to_pickle('./non_Lung_pancan_sampleclinical.pkl')"
   ]
  }
 ],
 "metadata": {
  "kernelspec": {
   "display_name": "Python 3",
   "language": "python",
   "name": "python3"
  },
  "language_info": {
   "codemirror_mode": {
    "name": "ipython",
    "version": 3
   },
   "file_extension": ".py",
   "mimetype": "text/x-python",
   "name": "python",
   "nbconvert_exporter": "python",
   "pygments_lexer": "ipython3",
   "version": "3.9.1"
  }
 },
 "nbformat": 4,
 "nbformat_minor": 4
}
